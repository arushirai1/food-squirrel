{
 "cells": [
  {
   "cell_type": "code",
   "execution_count": 69,
   "metadata": {},
   "outputs": [],
   "source": [
    "from app import app\n",
    "import folium\n",
    "import csv\n",
    "import sys\n",
    "import numpy as np\n",
    "import pandas as pd\n",
    "import pdb\n",
    "from folium.plugins import HeatMap\n",
    "\n",
    "from flask import render_template\n",
    "import os\n",
    "import geopandas as gpd\n",
    "from geo2cart import geo2cart\n"
   ]
  },
  {
   "cell_type": "code",
   "execution_count": 70,
   "metadata": {},
   "outputs": [],
   "source": [
    "start_coords = (41.8333722, -87.628204)\n",
    "folium_map = folium.Map(width=500,height=500, location=start_coords, tiles=\"Stamen Toner\", zoom_start=10)\n",
    "\n",
    "filepath = \"app/static/Grocery_Stores_-_2013.csv\"\n",
    "boundaries_path = \"app/static/neighborhoods.geojson\"\n",
    "data = pd.read_csv(filepath)\n",
    "data = gpd.GeoDataFrame(data, geometry=gpd.points_from_xy(data.LONGITUDE, data.LATITUDE))\n",
    "\n",
    "data.crs={'init': 'epsg:4326'}\n",
    "boundaries_df = gpd.read_file(boundaries_path)\n",
    "boundaries_df['neighborhood'] = boundaries_df.sec_neigh.astype('category')\n",
    "\n",
    "data_and_nbhood = gpd.sjoin(data, boundaries_df, op=\"within\")\n",
    "\n",
    "data_and_nbhood_copy = []\n",
    "for store in data_and_nbhood.iterrows():\n",
    "    store = store[1]\n",
    "    store_temp = [store['LATITUDE'], store['LONGITUDE']]\n",
    "    data_and_nbhood_copy.append(store_temp)\n",
    "\n",
    "data_and_nbhood_copy_df = pd.DataFrame(data_and_nbhood_copy, columns=['LATITUDE', 'LONGITUDE'])"
   ]
  },
  {
   "cell_type": "code",
   "execution_count": 73,
   "metadata": {},
   "outputs": [],
   "source": [
    "(minx, miny, maxx, maxy) = boundaries_df['geometry'][31].bounds\n",
    "outer_bounds = [[minx, miny], [minx, maxy], [maxx, maxy], [maxx, miny]]\n",
    "width = geodesic(outer_bounds[0], outer_bounds[1]).m\n",
    "length = geodesic(outer_bounds[1], outer_bounds[2]).m\n"
   ]
  },
  {
   "cell_type": "markdown",
   "metadata": {},
   "source": [
    "# Example of Plotting"
   ]
  },
  {
   "cell_type": "code",
   "execution_count": 142,
   "metadata": {},
   "outputs": [],
   "source": [
    "import matplotlib.pyplot as plt"
   ]
  },
  {
   "cell_type": "code",
   "execution_count": 173,
   "metadata": {},
   "outputs": [
    {
     "data": {
      "image/png": "[encoded data removed]",
      "text/plain": [
       "<Figure size 432x288 with 1 Axes>"
      ]
     },
     "metadata": {
      "needs_background": "light"
     },
     "output_type": "display_data"
    }
   ],
   "source": [
    "step = 500 #half a km\n",
    "import random\n",
    "\n",
    "\n",
    "class dim:\n",
    "    steps = []\n",
    "    max_dim = 0\n",
    "    def __init__(self, steps):\n",
    "        self.steps = steps\n",
    "        self.max_dim = len(self.steps) - 1\n",
    "        \n",
    "def test(_min, _max, _steps):\n",
    "    return (_max - _min)/_steps\n",
    "\n",
    "def float_range(_min, _max, step_size, steps):\n",
    "    _list = [_min+i*step_size for i in range(steps+1)]\n",
    "    return _list\n",
    "\n",
    "#list of steps including the last one\n",
    "def create_step_list(distance, step_size):\n",
    "    step_list = list(range(0,int(distance), step_size)) #list of \"steps\"\n",
    "    if step_list[len(step_list) - 1] < distance:\n",
    "        step_list.append(int(distance))\n",
    "    return step_list\n",
    "\n",
    "def get_color(x, y):\n",
    "    grocery_stores_count = 0\n",
    "    for index, store in data_and_nbhood_copy_df.iterrows():\n",
    "        if geodesic([y, x], [store['LATITUDE'], store['LONGITUDE']]).m < 500:\n",
    "            grocery_stores_count+=1\n",
    "    if grocery_stores_count > 0:\n",
    "        return 0\n",
    "    return 5\n",
    "\n",
    "#def create_grid_list():\n",
    "    \n",
    "def create_grid(i):\n",
    "    (minx, miny, maxx, maxy) = boundaries_df['geometry'][i].bounds\n",
    "    outer_bounds = [[minx, miny], [minx, maxy], [maxx, maxy], [maxx, miny]]\n",
    "    width = geodesic(outer_bounds[0], outer_bounds[1]).m\n",
    "    length = geodesic(outer_bounds[1], outer_bounds[2]).m\n",
    "    y_dim = dim(create_step_list(width, step))\n",
    "    x_dim = dim(create_step_list(length, step))\n",
    "    \n",
    "    step_size = test(minx, maxx, x_dim.max_dim)\n",
    "    x_coord_list = float_range(minx, maxx, step_size, x_dim.max_dim)\n",
    "\n",
    "    y_coords = float_range(miny, maxy, test(miny, maxy, y_dim.max_dim), y_dim.max_dim)\n",
    "\n",
    "    poly_list = []\n",
    "    for i in range(x_dim.max_dim):\n",
    "        for j in range(y_dim.max_dim):\n",
    "            #creates a polygon box using min, max coordinates\n",
    "            poly = geometry.box(x_coord_list[i], y_coords[j], x_coord_list[i+1], y_coords[j+1], ccw=True)\n",
    "            poly_list.append(poly)\n",
    "            \n",
    "    for poly in poly_list:\n",
    "        xx, yy = poly.exterior.xy\n",
    "        centroid_x, centroid_y = (poly.centroid.coords.xy[0][0], poly.centroid.coords.xy[1][0])\n",
    "        #plt.plot(centroid_x, centroid_y, 'ro')\n",
    "        plt.plot(xx, yy, solid_capstyle='round', color='white')\n",
    "        color = get_color(centroid_x, centroid_y)\n",
    "        plt.fill(xx, yy, str(color/10))\n",
    "    \n",
    "#create polygons\n",
    "for i in range(0, 98):\n",
    "    create_grid(i)"
   ]
  },
  {
   "cell_type": "code",
   "execution_count": null,
   "metadata": {},
   "outputs": [],
   "source": [
    "#create a geoseries"
   ]
  },
  {
   "cell_type": "code",
   "execution_count": 162,
   "metadata": {},
   "outputs": [
    {
     "data": {
      "text/plain": [
       "(98, 6)"
      ]
     },
     "execution_count": 162,
     "metadata": {},
     "output_type": "execute_result"
    }
   ],
   "source": [
    "boundaries_df.shape"
   ]
  },
  {
   "cell_type": "markdown",
   "metadata": {},
   "source": [
    "## Proof of Concept: Create Grid from Bounding Box"
   ]
  },
  {
   "cell_type": "code",
   "execution_count": 171,
   "metadata": {},
   "outputs": [
    {
     "data": {
      "image/png": "[encoded data removed]",
      "text/plain": [
       "<Figure size 432x288 with 1 Axes>"
      ]
     },
     "metadata": {
      "needs_background": "light"
     },
     "output_type": "display_data"
    }
   ],
   "source": [
    "from shapely import geometry\n",
    "\n",
    "x = np.arange(0, 5, 1)\n",
    "y = np.arange(0, 5, 1)\n",
    "xx, yy = np.meshgrid(x, y, sparse=False)\n",
    "poly_list = []\n",
    "for i in range(len(x)-1):\n",
    "    for j in range(len(y)-1):\n",
    "        poly = geometry.box(x[i], y[j], x[i+1], y[j+1], ccw=True)\n",
    "        poly_list.append(poly)\n",
    "for poly in poly_list:\n",
    "    xx, yy = poly.exterior.xy\n",
    "    plt.plot(xx, yy, solid_capstyle='round', color='red')\n",
    "    plt.fill(xx, yy, str(5/10))\n",
    "\n"
   ]
  },
  {
   "cell_type": "code",
   "execution_count": null,
   "metadata": {},
   "outputs": [],
   "source": []
  }
 ],
 "metadata": {
  "kernelspec": {
   "display_name": "Python 3",
   "language": "python",
   "name": "python3"
  },
  "language_info": {
   "codemirror_mode": {
    "name": "ipython",
    "version": 3
   },
   "file_extension": ".py",
   "mimetype": "text/x-python",
   "name": "python",
   "nbconvert_exporter": "python",
   "pygments_lexer": "ipython3",
   "version": "3.7.4"
  }
 },
 "nbformat": 4,
 "nbformat_minor": 2
}
